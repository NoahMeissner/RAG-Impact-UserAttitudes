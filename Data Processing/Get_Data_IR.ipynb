{
 "cells": [
  {
   "cell_type": "markdown",
   "source": [
    "# Get Raw Data From Data Base"
   ],
   "metadata": {
    "collapsed": false
   }
  },
  {
   "cell_type": "markdown",
   "source": [
    "Imports"
   ],
   "metadata": {
    "collapsed": false
   }
  },
  {
   "cell_type": "code",
   "execution_count": 2,
   "outputs": [],
   "source": [
    "from sqlalchemy import create_engine, text\n",
    "import pandas as pd\n",
    "import json\n",
    "import os"
   ],
   "metadata": {
    "collapsed": false
   }
  },
  {
   "cell_type": "markdown",
   "source": [
    "\n",
    "### Get Access to Database"
   ],
   "metadata": {
    "collapsed": false
   }
  },
  {
   "cell_type": "code",
   "execution_count": 3,
   "outputs": [
    {
     "name": "stdout",
     "output_type": "stream",
     "text": [
      "Connected!\n"
     ]
    }
   ],
   "source": [
    "db_string = \"\"\n",
    "db = create_engine(db_string)\n",
    "\n",
    "connection = db.connect()\n",
    "print(\"Connected!\")\n",
    "\n",
    "query = \"SELECT * FROM participants\"\n",
    "df_participants = pd.read_sql_query(query, db)\n",
    "query_message = \"SELECT * FROM messages\"\n",
    "df_messages = pd.read_sql_query(query_message, db)\n",
    "query_credits = \"SELECT * FROM Credits\"\n",
    "credits = pd.read_sql(query_credits, db)\n",
    "\n",
    "connection.close()\n",
    "db.dispose()"
   ],
   "metadata": {
    "collapsed": false
   }
  },
  {
   "cell_type": "markdown",
   "source": [
    "### Extract Raw Data"
   ],
   "metadata": {
    "collapsed": false
   }
  },
  {
   "cell_type": "code",
   "execution_count": 4,
   "outputs": [],
   "source": [
    "credits.to_csv(\"credits.csv\",index = False)\n",
    "df_participants.to_csv(\"participant_raw.csv\", index=False)\n",
    "df_messages.to_csv(\"messages_raw.csv\", index=False)"
   ],
   "metadata": {
    "collapsed": false
   }
  },
  {
   "cell_type": "markdown",
   "source": [
    "### Preperation"
   ],
   "metadata": {
    "collapsed": false
   }
  },
  {
   "cell_type": "code",
   "execution_count": 30,
   "outputs": [],
   "source": [
    "participants =  df_participants\n",
    "file_path = 'id.csv'\n",
    "new_ids = pd.DataFrame()\n",
    "\n",
    "if os.path.exists(file_path):\n",
    "    check_frame = pd.read_csv(\"id.csv\")\n",
    "    check_frame = pd.read_csv(file_path)\n",
    "    if isinstance(participants, pd.Series):\n",
    "        participants_df = participants.to_frame()  # Umwandlung in DataFrame\n",
    "    else:\n",
    "        participants_df = participants  # Falls es bereits ein DataFrame ist\n",
    "        new_ids = participants_df[~participants_df['participant_id'].isin(check_frame['participant_id'])]\n",
    "else:\n",
    "    new_ids = participants\n",
    "    participants.to_csv('id.csv', index=False)"
   ],
   "metadata": {
    "collapsed": false
   }
  },
  {
   "cell_type": "markdown",
   "source": [
    "### Create CSV with Personal Information"
   ],
   "metadata": {
    "collapsed": false
   }
  },
  {
   "cell_type": "markdown",
   "source": [
    "Personal Information\n",
    "- participant_id\n",
    "- age\n",
    "- levelofeducation\n",
    "- occupation\n",
    "- condition\n",
    "- mildness\n"
   ],
   "metadata": {
    "collapsed": false
   }
  },
  {
   "cell_type": "code",
   "execution_count": 32,
   "outputs": [],
   "source": [
    "columns_to_extract = ['participant_id', 'age', 'levelofeducation', 'occupation', 'condition', 'mildness']\n",
    "PATH = 'Data/personal_data.csv'\n",
    "df_personal = new_ids[columns_to_extract]\n",
    "\n",
    "if os.path.exists(PATH):\n",
    "    old = pd.read_csv(PATH)\n",
    "    new = pd.concat([df_personal, old])\n",
    "    new.to_csv(PATH, index=False)\n",
    "else:\n",
    "    df_personal.to_csv(PATH, index=False)"
   ],
   "metadata": {
    "collapsed": false
   }
  },
  {
   "cell_type": "markdown",
   "source": [
    "### Create CSV with User Arguments"
   ],
   "metadata": {
    "collapsed": false
   }
  },
  {
   "cell_type": "markdown",
   "source": [
    "Arguments\n",
    "- participant_id\n",
    "- argumentsbefore\n",
    "- arguments_after"
   ],
   "metadata": {
    "collapsed": false
   }
  },
  {
   "cell_type": "code",
   "execution_count": 34,
   "outputs": [],
   "source": [
    "columns_to_extract = ['participant_id','argumentsbefore','argumentsafter']\n",
    "PATH = 'Data/arguments.csv'\n",
    "df_arguments = new_ids[columns_to_extract]\n",
    "if os.path.exists(PATH):\n",
    "    old = pd.read_csv(PATH)\n",
    "    new = pd.concat([df_arguments, old])\n",
    "    new.to_csv(PATH, index=False)\n",
    "else:\n",
    "    df_arguments.to_csv(PATH, index=False)"
   ],
   "metadata": {
    "collapsed": false
   }
  },
  {
   "cell_type": "markdown",
   "source": [
    "### Create CSV with Topic Grading"
   ],
   "metadata": {
    "collapsed": false
   }
  },
  {
   "cell_type": "markdown",
   "source": [
    "topicGrading\n",
    "- participant_id\n",
    "- topicgrading[First]\n",
    "- topicgrading[Second]\n",
    "- topicgrading[third]\n",
    "- topicgrading[fourth]"
   ],
   "metadata": {
    "collapsed": false
   }
  },
  {
   "cell_type": "code",
   "execution_count": 35,
   "outputs": [],
   "source": [
    "result_topic_grading = pd.DataFrame()\n",
    "\n",
    "for index, row in participants_df.iterrows():\n",
    "    id = row['participant_id']\n",
    "    topic = row['topicgrading']\n",
    "\n",
    "    topic_dict = pd.read_json(topic, typ='series')\n",
    "\n",
    "    firstTopic = topic_dict['firstTopic']\n",
    "    secondTopic = topic_dict['secondTopic']\n",
    "    thirdTopic = topic_dict['thirdTopic']\n",
    "    evalGrade = topic_dict['evalGrade']\n",
    "\n",
    "    df = pd.DataFrame({'participant_id': [id], 'firstTopic': [firstTopic], 'secondTopic': [secondTopic], 'thirdTopic': [thirdTopic], 'evalGrade': [evalGrade]})\n",
    "\n",
    "    result_topic_grading = pd.concat([result_topic_grading, df], ignore_index=True)\n",
    "\n",
    "result_topic_grading.to_csv('Data/topic_grade.csv', index=False)\n"
   ],
   "metadata": {
    "collapsed": false
   }
  },
  {
   "cell_type": "markdown",
   "source": [
    "### Create CSV with Timestamps"
   ],
   "metadata": {
    "collapsed": false
   }
  },
  {
   "cell_type": "markdown",
   "source": [
    "timestamps\n",
    "participant_id\n",
    "timestamps"
   ],
   "metadata": {
    "collapsed": false
   }
  },
  {
   "cell_type": "code",
   "execution_count": 1,
   "outputs": [
    {
     "ename": "NameError",
     "evalue": "name 'pd' is not defined",
     "output_type": "error",
     "traceback": [
      "\u001B[0;31m---------------------------------------------------------------------------\u001B[0m",
      "\u001B[0;31mNameError\u001B[0m                                 Traceback (most recent call last)",
      "Cell \u001B[0;32mIn[1], line 1\u001B[0m\n\u001B[0;32m----> 1\u001B[0m result_topic_timeStamps \u001B[38;5;241m=\u001B[39m \u001B[43mpd\u001B[49m\u001B[38;5;241m.\u001B[39mDataFrame()\n\u001B[1;32m      3\u001B[0m \u001B[38;5;28;01mfor\u001B[39;00m index, row \u001B[38;5;129;01min\u001B[39;00m participants_df\u001B[38;5;241m.\u001B[39miterrows():\n\u001B[1;32m      4\u001B[0m     \u001B[38;5;28mid\u001B[39m \u001B[38;5;241m=\u001B[39m row[\u001B[38;5;124m'\u001B[39m\u001B[38;5;124mparticipant_id\u001B[39m\u001B[38;5;124m'\u001B[39m]\n",
      "\u001B[0;31mNameError\u001B[0m: name 'pd' is not defined"
     ]
    }
   ],
   "source": [
    "result_topic_timeStamps = pd.DataFrame()\n",
    "\n",
    "for index, row in participants_df.iterrows():\n",
    "    id = row['participant_id']\n",
    "    timestamp = row['timestamps']\n",
    "\n",
    "    timestamp_dict = pd.read_json(timestamp, typ='series')\n",
    "\n",
    "    start = timestamp_dict['start']\n",
    "    informationConsent = timestamp_dict['informationConsent']\n",
    "    preStudy = timestamp_dict['preStudy']\n",
    "    preTask = timestamp_dict['preTask']\n",
    "    taskDescription = timestamp_dict['taskDescription']\n",
    "    task = timestamp_dict['task']\n",
    "    postTask = timestamp_dict['postTask']\n",
    "\n",
    "\n",
    "    df = pd.DataFrame({'participant_id': [id], 'start': [start], 'informationConsent': [informationConsent], 'preStudy': [preStudy], 'preTask': [preTask],'taskDescription': [taskDescription],'task': [task],'postTask': [postTask]})\n",
    "\n",
    "    result_topic_timeStamps = pd.concat([result_topic_timeStamps, df], ignore_index=True)\n",
    "\n",
    "result_topic_timeStamps.to_csv('Data/topic_timestamps.csv', index=False)\n"
   ],
   "metadata": {
    "collapsed": false
   }
  },
  {
   "cell_type": "markdown",
   "source": [],
   "metadata": {
    "collapsed": false
   }
  }
 ],
 "metadata": {
  "kernelspec": {
   "display_name": "Python 3",
   "language": "python",
   "name": "python3"
  },
  "language_info": {
   "codemirror_mode": {
    "name": "ipython",
    "version": 2
   },
   "file_extension": ".py",
   "mimetype": "text/x-python",
   "name": "python",
   "nbconvert_exporter": "python",
   "pygments_lexer": "ipython2",
   "version": "2.7.6"
  }
 },
 "nbformat": 4,
 "nbformat_minor": 0
}
