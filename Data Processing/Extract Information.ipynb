{
 "cells": [
  {
   "cell_type": "markdown",
   "source": [
    "Imports"
   ],
   "metadata": {
    "collapsed": false
   }
  },
  {
   "cell_type": "code",
   "execution_count": 1,
   "outputs": [],
   "source": [
    "import numpy as np\n",
    "import pandas as pd\n",
    "import json\n",
    "import os"
   ],
   "metadata": {
    "collapsed": false
   }
  },
  {
   "cell_type": "markdown",
   "source": [
    "# Get CSV"
   ],
   "metadata": {
    "collapsed": false
   }
  },
  {
   "cell_type": "code",
   "execution_count": 2,
   "outputs": [],
   "source": [
    "participants = pd.read_csv(\"participant_raw.csv\")\n",
    "messages = pd.read_csv(\"messages_raw.csv\")"
   ],
   "metadata": {
    "collapsed": false
   }
  },
  {
   "cell_type": "markdown",
   "source": [
    "## Personal Information"
   ],
   "metadata": {
    "collapsed": false
   }
  },
  {
   "cell_type": "code",
   "execution_count": 5,
   "outputs": [],
   "source": [
    "columns_to_extract = ['participant_id', 'age','gender', 'levelofeducation', 'occupation', 'condition', 'mildness']\n",
    "PATH = 'Data/personal_data.csv'\n",
    "df_personal = participants[columns_to_extract]\n",
    "\n",
    "if os.path.exists(PATH):\n",
    "    old = pd.read_csv(PATH)\n",
    "    new = pd.concat([df_personal, old])\n",
    "    new.to_csv(PATH, index=False)\n",
    "else:\n",
    "    df_personal.to_csv(PATH, index=False)"
   ],
   "metadata": {
    "collapsed": false
   }
  },
  {
   "cell_type": "markdown",
   "source": [
    "## Arguments Table\n",
    "- participant_id\n",
    "- argumentsbefore\n",
    "- arguments_after\n"
   ],
   "metadata": {
    "collapsed": false
   }
  },
  {
   "cell_type": "code",
   "execution_count": 4,
   "outputs": [],
   "source": [
    "participants = pd.read_csv(\"Modified/filtered_quantitative.csv\")\n",
    "\n",
    "columns_to_extract = ['participant_id', 'argumentsbefore', 'argumentsafter']\n",
    "PATH = 'Data/arguments.csv'\n",
    "df_arguments = participants[columns_to_extract]\n",
    "if os.path.exists(PATH):\n",
    "    old = pd.read_csv(PATH)\n",
    "    new = pd.concat([df_arguments, old])\n",
    "    new.to_csv(PATH, index=False)\n",
    "else:\n",
    "    print('')\n",
    "    df_arguments.to_csv(PATH, index=False)"
   ],
   "metadata": {
    "collapsed": false
   }
  },
  {
   "cell_type": "markdown",
   "source": [
    "#### Opinion"
   ],
   "metadata": {
    "collapsed": false
   }
  },
  {
   "cell_type": "code",
   "execution_count": 4,
   "outputs": [],
   "source": [
    "participants = pd.read_csv(\"Modified/filtered_quantitative_opinion.csv\")\n",
    "\n",
    "arguments = pd.read_csv(\"participant_raw.csv\")\n",
    "\n",
    "\n",
    "PATH = 'Data/arguments_opinion.csv'\n",
    "result = pd.DataFrame()\n",
    "for index, row in participants.iterrows():\n",
    "    id = row['id']\n",
    "    evalgrade = row['evalGrade']\n",
    "    before = arguments[arguments['participant_id'] == id]['argumentsbefore'].iloc[0]\n",
    "    after = arguments[arguments['participant_id'] == id]['argumentsafter'].iloc[0]\n",
    "\n",
    "    df = pd.DataFrame({'participant_id':[id],'argumentsbefore':[before], 'argumentsafter':[after],'evalgrade':evalgrade})\n",
    "    result = pd.concat([result, df], ignore_index = True)\n",
    "\n",
    "\n",
    "result.to_csv(PATH, index=False)"
   ],
   "metadata": {
    "collapsed": false
   }
  },
  {
   "cell_type": "markdown",
   "source": [
    "## Topic Grading Table\n",
    "- participant_id\n",
    "- topicgrading[First]\n",
    "- topicgrading[Second]\n",
    "- topicgrading[third]\n",
    "- topicgrading[fourth]\n"
   ],
   "metadata": {
    "collapsed": false
   }
  },
  {
   "cell_type": "code",
   "execution_count": 4,
   "outputs": [],
   "source": [
    "result_topic_grading = pd.DataFrame()\n",
    "\n",
    "for index, row in participants.iterrows():\n",
    "    id = row['participant_id']\n",
    "    topic = row['topicgrading']\n",
    "    selected = row[\"tasktopic\"]\n",
    "\n",
    "    topic_dict = pd.read_json(topic, typ='series')\n",
    "\n",
    "    firstTopic = topic_dict['firstTopic']\n",
    "    secondTopic = topic_dict['secondTopic']\n",
    "    thirdTopic = topic_dict['thirdTopic']\n",
    "    evalGrade = topic_dict['evalGrade']\n",
    "\n",
    "    df = pd.DataFrame({'participant_id': [id],\"topic\":[selected], 'firstTopic': [firstTopic], 'secondTopic': [secondTopic], 'thirdTopic': [thirdTopic], 'evalGrade': [evalGrade]})\n",
    "\n",
    "    result_topic_grading = pd.concat([result_topic_grading, df], ignore_index=True)\n",
    "\n",
    "result_topic_grading.to_csv('Data/topic_grade.csv', index=False)\n"
   ],
   "metadata": {
    "collapsed": false
   }
  },
  {
   "cell_type": "markdown",
   "source": [
    "## Timestamps\n",
    "participant_id\n",
    "timestamps\n"
   ],
   "metadata": {
    "collapsed": false
   }
  },
  {
   "cell_type": "code",
   "execution_count": 6,
   "outputs": [],
   "source": [
    "result_topic_timeStamps = pd.DataFrame()\n",
    "\n",
    "for index, row in participants.iterrows():\n",
    "    id = row['participant_id']\n",
    "    timestamp = row['timestamps']\n",
    "\n",
    "    timestamp_dict = pd.read_json(timestamp, typ='series')\n",
    "\n",
    "    start = timestamp_dict['start']\n",
    "    informationConsent = timestamp_dict['informationConsent']\n",
    "    preStudy = timestamp_dict['preStudy']\n",
    "    preTask = timestamp_dict['preTask']\n",
    "    taskDescription = timestamp_dict['taskDescription']\n",
    "    task = timestamp_dict['task']\n",
    "    postTask = timestamp_dict['postTask']\n",
    "\n",
    "\n",
    "    df = pd.DataFrame({'participant_id': [id], 'start': [start], 'informationConsent': [informationConsent], 'preStudy': [preStudy], 'preTask': [preTask],'taskDescription': [taskDescription],'task': [task],'postTask': [postTask]})\n",
    "\n",
    "    result_topic_timeStamps = pd.concat([result_topic_timeStamps, df], ignore_index=True)\n",
    "\n",
    "result_topic_timeStamps.to_csv('Data/topic_timestamps.csv', index=False)\n"
   ],
   "metadata": {
    "collapsed": false
   }
  },
  {
   "cell_type": "markdown",
   "source": [
    "# Qualitative Analyse"
   ],
   "metadata": {
    "collapsed": false
   }
  },
  {
   "cell_type": "code",
   "execution_count": 15,
   "outputs": [],
   "source": [
    "ls =[\"dabae361-1f11-4384-a953-17504986e0ab\",\"118ce8cf-7b59-4b98-9632-caf3d9634c05\",\"7544ab85-ddb2-4ad3-b0ad-995b54f2ef29\",\"31827870-dab8-4dcf-93e0-63ca6a8780c0\",\"bc6b68c3-8258-4e8a-8359-a413084a1293\",\"a9bf32d8-4b00-445c-afd6-fdfcd5ec59eb\",\"bf4cd9d1-0460-498c-a099-2e89fcc91626\",\"a5f2fe77-4f68-44e4-bd41-767fac4c136d\",\"1f6f5800-a6f2-4f79-9dae-f89bc8d82688\",\"b7e5e281-147a-4fdd-bcc6-43669c58ddd9\",\"51b331bf-f4c9-4584-ad31-906add9b0454\",\"a4700b4c-6c2b-409f-9a87-3587b5b5509e\",\"8a7e40cc-6d83-4d78-ad6b-762bb8643cdc\",\"76af0a0c-0684-406e-8445-a37ca339ace1\",\"e7f45769-42c2-4ffb-891e-595b0edc9201\",\"99f9d31d-0827-4d3e-b738-ef501c092746\",\"d9227b0a-0ef2-4bae-a2b9-62a7ada7d0ba\",\n",
    "     \"46c7a44f-c6f7-4704-a95c-157a33a3eae8\"\n",
    "     \"82650439-665d-4dce-bdc5-dc2ac91946fb\",\n",
    "     \"aaac90bf-0aba-4c34-abe5-0f5cb0eee723\",\n",
    "     \"c5fba9c5-4927-4162-bb2b-227d5153d459\",\n",
    "     \"289228a6-5110-495c-a454-c16a5b67063f\",\n",
    "     \"f217fa91-b16d-4324-9780-c9636fe5ae46\",\n",
    "     \"8c58b848-6b10-4dd5-bdc7-5af82d2bcc87\",\n",
    "     \"b68c4426-68bb-4d71-8edf-4301afb318eb\",\n",
    "     \"440dc57f-1443-40cc-b459-89cc76f06842\",\n",
    "     \"d2bcc047-5769-40ed-968b-fe088c4fb7f6\"]"
   ],
   "metadata": {
    "collapsed": false
   }
  },
  {
   "cell_type": "markdown",
   "source": [],
   "metadata": {
    "collapsed": false
   }
  },
  {
   "cell_type": "markdown",
   "source": [
    "### Check People"
   ],
   "metadata": {
    "collapsed": false
   }
  },
  {
   "cell_type": "code",
   "execution_count": 13,
   "outputs": [],
   "source": [
    "import pandas as pd"
   ],
   "metadata": {
    "collapsed": false
   }
  },
  {
   "cell_type": "code",
   "execution_count": 5,
   "outputs": [],
   "source": [
    "messages = pd.read_csv(\"messages_raw.csv\")\n",
    "participants = pd.read_csv(\"participant_raw.csv\")\n",
    "result = pd.DataFrame(columns=[\"id\", \"argumentsbefore\", \"argumentsafter\", \"messages\"])\n",
    "for index, row in participants.iterrows():\n",
    "    a = row[\"participant_id\"]\n",
    "    if row[\"mildness\"] and a not in ls:\n",
    "        before = row[\"argumentsbefore\"]\n",
    "        after = row[\"argumentsafter\"]\n",
    "        df = messages[(messages[\"participant_id\"]==a) & (messages[\"username\"] == \"User\")]\n",
    "        message_list = []\n",
    "        for index, row in df.iterrows():\n",
    "            message_list.append(row[\"content\"])\n",
    "        zw = pd.DataFrame({\"id\":[a], \"argumentsbefore\":[before], \"argumentsafter\":[after], \"messages\":[str(message_list)]})\n",
    "        result = pd.concat([result, zw], ignore_index=True)\n"
   ],
   "metadata": {
    "collapsed": false
   }
  },
  {
   "cell_type": "markdown",
   "source": [
    "### Chat GPT Output and Stance"
   ],
   "metadata": {
    "collapsed": false
   }
  },
  {
   "cell_type": "code",
   "execution_count": 12,
   "outputs": [],
   "source": [
    "messages = pd.read_csv(\"messages_raw.csv\")\n",
    "participants = pd.read_csv(\"participant_raw.csv\")\n",
    "result = pd.DataFrame(columns=[\"id\", \"condition\", \"messages\"])\n",
    "for index, row in participants.iterrows():\n",
    "    a = row[\"participant_id\"]\n",
    "    if row[\"mildness\"] and a not in ls:\n",
    "        a = row[\"participant_id\"]\n",
    "        condition = row[\"condition\"]\n",
    "        df = messages[(messages[\"participant_id\"] == a) & (messages[\"username\"] == \"System\")]\n",
    "        message_list = []\n",
    "        for index, row in df.iterrows():\n",
    "            message_list.append(row[\"content\"])\n",
    "        zw = pd.DataFrame(\n",
    "            {\"id\": [a],\"condition\":[condition], \"messages\": [str(message_list)]})\n",
    "        result = pd.concat([result, zw], ignore_index=True)\n",
    "result.to_csv(\"Data/Prompt_Stance.csv\", index=False)"
   ],
   "metadata": {
    "collapsed": false
   }
  },
  {
   "cell_type": "markdown",
   "source": [
    "### Which arguments they find important"
   ],
   "metadata": {
    "collapsed": false
   }
  },
  {
   "cell_type": "code",
   "execution_count": 13,
   "outputs": [],
   "source": [
    "messages = pd.read_csv(\"messages_raw.csv\")\n",
    "participants = pd.read_csv(\"participant_raw.csv\")\n",
    "result = pd.DataFrame(columns=[\"id\", \"argumentsbefore\", \"argumentsafter\", \"messages\"])\n",
    "for index, row in participants.iterrows():\n",
    "    a = row[\"participant_id\"]\n",
    "    if row[\"mildness\"] and a not in ls:\n",
    "        before = row[\"argumentsbefore\"]\n",
    "        after = row[\"argumentsafter\"]\n",
    "        index = row[\"participant_id\"]\n",
    "        df = messages[(messages[\"participant_id\"] == index) & (messages[\"username\"] == \"System\")]\n",
    "        message_list = []\n",
    "        for index, row in df.iterrows():\n",
    "            message_list.append(row[\"content\"])\n",
    "        zw = pd.DataFrame({\"id\":[index], \"argumentsbefore\":[before], \"argumentsafter\":[after], \"messages\":[str(message_list)]})\n",
    "        result = pd.concat([result, zw], ignore_index=True)\n",
    "result.to_csv(\"Data/Arguments_choosed.csv\", index=False)"
   ],
   "metadata": {
    "collapsed": false
   }
  },
  {
   "cell_type": "markdown",
   "source": [
    "# Prompt Analysis"
   ],
   "metadata": {
    "collapsed": false
   }
  },
  {
   "cell_type": "code",
   "execution_count": 8,
   "outputs": [],
   "source": [
    "data = pd.read_csv(\"Data/Prompt_Stance.csv\")\n",
    "\n",
    "for index,row in data.iterrows():\n",
    "    index = row['id']\n",
    "    content = str(row['messages'])\n",
    "    with open(f'Qualitative/Prompts_Analysis/{index}.txt', 'w') as datei:\n",
    "        datei.write(content)"
   ],
   "metadata": {
    "collapsed": false
   }
  },
  {
   "cell_type": "code",
   "execution_count": 15,
   "outputs": [],
   "source": [
    "columns_to_extract = ['participant_id', 'argumentsbefore', 'argumentsafter']\n",
    "PATH = 'arguments_qualitativ.csv'\n",
    "\n",
    "participants = pd.read_csv(\"participant_raw.csv\")\n",
    "result = pd.DataFrame(columns=['id','topic', 'argumentsbefore', 'argumentsafter'])\n",
    "for index, row in participants.iterrows():\n",
    "    a = row[\"participant_id\"]\n",
    "    if row[\"mildness\"] and a not in ls:\n",
    "        argumentsbefore = row[\"argumentsbefore\"]\n",
    "        topic = row[\"tasktopic\"]\n",
    "        argumentsafter = row[\"argumentsafter\"]\n",
    "        zw = pd.DataFrame(\n",
    "            {\"id\": [a],\"topic\":[topic], \"argumentsbefore\":[argumentsbefore], \"argumentsafter\": [argumentsafter]})\n",
    "        result = pd.concat([result, zw], ignore_index=True)\n",
    "result.to_csv(\"arguments_qualitativ.csv\", index=False)"
   ],
   "metadata": {
    "collapsed": false
   }
  },
  {
   "cell_type": "markdown",
   "source": [
    "# Check what they have written"
   ],
   "metadata": {
    "collapsed": false
   }
  },
  {
   "cell_type": "code",
   "execution_count": 17,
   "outputs": [],
   "source": [
    "result = {}\n",
    "\n",
    "for index, row in messages.iterrows():\n",
    "    try:\n",
    "        if row['username'] == 'User':\n",
    "            id = row['participant_id']\n",
    "\n",
    "            if id not in ls:\n",
    "                content = row['content']\n",
    "                if id not in result:\n",
    "                    result[id] = [content]\n",
    "                else:\n",
    "                    result[id].append(content)\n",
    "    except Exception as e:  # Es ist besser, die Art des Fehlers zu spezifizieren\n",
    "        print(f\"Ein Fehler ist aufgetreten mit ID {id}: {e}\")\n",
    "\n",
    "# Neue Schritte, um den DataFrame für das gewünschte Format vorzubereiten\n",
    "# Erstellen einer Liste von Dictionaries\n",
    "data_for_df = []\n",
    "for id, contents in result.items():\n",
    "        data_for_df.append({'id': id, 'content': contents})\n",
    "\n",
    "# Konvertieren in einen DataFrame\n",
    "result_df = pd.DataFrame(data_for_df)\n",
    "\n",
    "# Speichern des DataFrames in einer neuen CSV-Datei\n",
    "result_df.to_csv(\"UserPrompts.csv\", index=False)\n"
   ],
   "metadata": {
    "collapsed": false
   }
  },
  {
   "cell_type": "markdown",
   "source": [
    "## Extract from Prompts finished"
   ],
   "metadata": {
    "collapsed": false
   }
  },
  {
   "cell_type": "code",
   "execution_count": 6,
   "outputs": [],
   "source": [
    "user_prompts = pd.read_csv(\"Modified/UserPrompts_finished.csv\")"
   ],
   "metadata": {
    "collapsed": false
   }
  },
  {
   "cell_type": "code",
   "execution_count": 6,
   "outputs": [],
   "source": [
    "participants = pd.read_csv(\"Modified/filtered_quantitative.csv\")\n",
    "\n",
    "\n",
    "arguments = user_prompts\n",
    "\n",
    "result = pd.DataFrame()\n",
    "\n",
    "for index, row in participants.iterrows():\n",
    "    id = row['id']\n",
    "    if id in arguments['id'].tolist():\n",
    "        labels = arguments[arguments['id'] == id]['Qualitative_Labels'].iloc[0]\n",
    "\n",
    "        df = pd.DataFrame({'participant_id':[id], 'Qualitative_Labels':[labels]})\n",
    "        result = pd.concat([result, df], ignore_index = True)\n",
    "\n",
    "\n",
    "user_prompts = result"
   ],
   "metadata": {
    "collapsed": false
   }
  },
  {
   "cell_type": "code",
   "execution_count": 72,
   "outputs": [
    {
     "name": "stdout",
     "output_type": "stream",
     "text": [
      "['question']\n",
      "['question']\n",
      "['data']\n",
      "['question']\n",
      "['question; arguments']\n",
      "['question']\n",
      "['question']\n",
      "['question;modify;arguments']\n",
      "['question']\n",
      "['question; arguments']\n",
      "['question; modify; arguments']\n",
      "['question']\n",
      "['question; arguments']\n",
      "['question; opinion']\n",
      "['question; modify; statistics']\n",
      "['question; arguments']\n",
      "['question; arguments']\n",
      "['question; arguments', '']\n",
      "['question; arguments; statistics']\n",
      "['question; arguments; modify']\n",
      "['question']\n",
      "['question; opinion']\n",
      "['arguments']\n",
      "['arguments']\n",
      "['arguments']\n",
      "['arguments']\n",
      "['modify; arguments']\n",
      "['arguments', 'opinion']\n",
      "['arguments']\n",
      "['arguments']\n",
      "['arguments']\n",
      "['statistics']\n",
      "['arguments']\n"
     ]
    }
   ],
   "source": [
    "import numpy as np\n",
    "import re\n",
    "\n",
    "kick = []\n",
    "result = []\n",
    "for index, row in user_prompts.iterrows():\n",
    "\n",
    "    if row['Qualitative_Labels'] is not np.nan:\n",
    "        try:\n",
    "            pattern = r\"kick\"\n",
    "            labels_raw = row['Qualitative_Labels']\n",
    "            list_labels = labels_raw.split(',')\n",
    "            list_labels = [s.strip().lower() for s in list_labels]\n",
    "            match = re.search(pattern, str(list_labels))\n",
    "\n",
    "            row['list_labels'] = list_labels\n",
    "            if 'kick' not in list_labels and not match:\n",
    "                print(list_labels)\n",
    "                result.append(row)\n",
    "            else:\n",
    "\n",
    "                kick.append(row)\n",
    "        except:\n",
    "            print(row['Qualitative_Labels'])"
   ],
   "metadata": {
    "collapsed": false
   }
  },
  {
   "cell_type": "code",
   "execution_count": 74,
   "outputs": [
    {
     "name": "stdout",
     "output_type": "stream",
     "text": [
      "0.15789473684210525\n"
     ]
    }
   ],
   "source": [
    "number = 0\n",
    "for i in result:\n",
    "    l = i['list_labels']\n",
    "    if 'arguments' in l:\n",
    "        number+=1\n",
    "\n",
    "print(number/(len(user_prompts)-len(kick))) # 15 Percent"
   ],
   "metadata": {
    "collapsed": false
   }
  },
  {
   "cell_type": "code",
   "execution_count": 76,
   "outputs": [
    {
     "name": "stdout",
     "output_type": "stream",
     "text": [
      "0.017543859649122806\n"
     ]
    }
   ],
   "source": [
    "number = 0\n",
    "for i in result:\n",
    "    l = i['list_labels']\n",
    "    if 'opinion' in l:\n",
    "        number += 1\n",
    "\n",
    "print(number / (len(user_prompts)-len(kick)))  # 1 Percent\n"
   ],
   "metadata": {
    "collapsed": false
   }
  }
 ],
 "metadata": {
  "kernelspec": {
   "display_name": "Python 3",
   "language": "python",
   "name": "python3"
  },
  "language_info": {
   "codemirror_mode": {
    "name": "ipython",
    "version": 2
   },
   "file_extension": ".py",
   "mimetype": "text/x-python",
   "name": "python",
   "nbconvert_exporter": "python",
   "pygments_lexer": "ipython2",
   "version": "2.7.6"
  }
 },
 "nbformat": 4,
 "nbformat_minor": 0
}
